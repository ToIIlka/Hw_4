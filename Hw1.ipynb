{
 "cells": [
  {
   "cell_type": "code",
   "execution_count": null,
   "metadata": {},
   "outputs": [],
   "source": [
    "import numpy as np"
   ]
  },
  {
   "cell_type": "code",
   "execution_count": 40,
   "metadata": {},
   "outputs": [
    {
     "name": "stdout",
     "output_type": "stream",
     "text": [
      "[ 1  2  3  4  5  6  7  8  9 10]\n"
     ]
    }
   ],
   "source": [
    "vector = np.arange(1, 11)\n",
    "print(vector)"
   ]
  },
  {
   "cell_type": "code",
   "execution_count": 6,
   "metadata": {},
   "outputs": [
    {
     "name": "stdout",
     "output_type": "stream",
     "text": [
      "[[0 0 0]\n",
      " [0 0 0]\n",
      " [0 0 0]]\n"
     ]
    }
   ],
   "source": [
    "\n",
    "m = np.zeros((3, 3), dtype=int)\n",
    "print(m)"
   ]
  },
  {
   "cell_type": "code",
   "execution_count": 36,
   "metadata": {},
   "outputs": [
    {
     "name": "stdout",
     "output_type": "stream",
     "text": [
      "[[ 2  4 10  7 10]\n",
      " [ 6  3  5  5  7]\n",
      " [ 7  6  8  5  1]\n",
      " [ 5  2  5  1  8]\n",
      " [10  1  9  3  6]]\n"
     ]
    }
   ],
   "source": [
    "array = np.random.randint(1, 11, size=(5, 5))\n",
    "print(array)\n"
   ]
  },
  {
   "cell_type": "code",
   "execution_count": 42,
   "metadata": {},
   "outputs": [
    {
     "name": "stdout",
     "output_type": "stream",
     "text": [
      "Перший масив:\n",
      "[ 2  6  2 10  1]\n",
      "Другий масив:\n",
      "[3 2 8 8 5]\n",
      "Результат додавання:\n",
      "[ 5  8 10 18  6]\n",
      "Результат віднімання:\n",
      "[-1  4 -6  2 -4]\n",
      "Результат множення:\n",
      "[ 6 12 16 80  5]\n"
     ]
    }
   ],
   "source": [
    "array1 = np.random.randint(1, 11, size=5)\n",
    "array2 = np.random.randint(1, 11, size=5)\n",
    "\n",
    "addition = array1 + array2\n",
    "subtraction = array1 - array2\n",
    "multiplication = array1 * array2\n",
    "\n",
    "print(\"Перший масив:\")\n",
    "print(array1)\n",
    "print(\"Другий масив:\")\n",
    "print(array2)\n",
    "print(\"Результат додавання:\")\n",
    "print(addition)\n",
    "print(\"Результат віднімання:\")\n",
    "print(subtraction)\n",
    "print(\"Результат множення:\")\n",
    "print(multiplication)\n"
   ]
  },
  {
   "cell_type": "code",
   "execution_count": 44,
   "metadata": {},
   "outputs": [
    {
     "name": "stdout",
     "output_type": "stream",
     "text": [
      "[ 7 12 15 16 15 12  7]\n",
      "84\n"
     ]
    }
   ],
   "source": [
    "a = np.array([1, 2, 3, 4, 5, 6, 7])\n",
    "b = np.array([7, 6, 5, 4, 3, 2, 1])\n",
    "print(a * b)\n",
    "print(np.dot(a, b))"
   ]
  },
  {
   "cell_type": "code",
   "execution_count": 52,
   "metadata": {},
   "outputs": [
    {
     "name": "stdout",
     "output_type": "stream",
     "text": [
      "Матриця а\n",
      "[[ 5  4]\n",
      " [10  9]]\n",
      "Матриця b\n",
      "[[6 5 8]\n",
      " [2 5 7]]\n",
      "Множення матриць\n",
      "[[ 38  45  68]\n",
      " [ 78  95 143]]\n"
     ]
    }
   ],
   "source": [
    "a = np.random.randint(1, 11, size=(2, 2))\n",
    "b = np.random.randint(1, 11, size=(2,3))\n",
    "c = np.dot(a, b)\n",
    "print(\"Матриця а\")\n",
    "print(a)\n",
    "print(\"Матриця b\")\n",
    "print(b)\n",
    "print(\"Множення матриць\")\n",
    "print(c)"
   ]
  },
  {
   "cell_type": "code",
   "execution_count": 57,
   "metadata": {},
   "outputs": [
    {
     "name": "stdout",
     "output_type": "stream",
     "text": [
      "Матриця а\n",
      "[[3 8]\n",
      " [8 9]]\n",
      "Обернена\n",
      "[[-0.24324324  0.21621622]\n",
      " [ 0.21621622 -0.08108108]]\n"
     ]
    }
   ],
   "source": [
    "a = np.random.randint(1, 11, size=(2, 2))\n",
    "a_inv = np.linalg.inv(a)\n",
    "print(\"Матриця а\")\n",
    "print(a)\n",
    "print(\"Обернена\")\n",
    "print(a_inv)"
   ]
  },
  {
   "cell_type": "code",
   "execution_count": 61,
   "metadata": {},
   "outputs": [
    {
     "name": "stdout",
     "output_type": "stream",
     "text": [
      "Матриця\n",
      "[[0.76540507 0.28581946 0.35587764 0.38684237]\n",
      " [0.63990384 0.37612283 0.73360103 0.14714327]\n",
      " [0.69907309 0.8760561  0.28040416 0.32080801]\n",
      " [0.42227774 0.01754889 0.0103942  0.0771196 ]]\n",
      "\n",
      "Транспонована матриця:\n",
      "[[0.76540507 0.63990384 0.69907309 0.42227774]\n",
      " [0.28581946 0.37612283 0.8760561  0.01754889]\n",
      " [0.35587764 0.73360103 0.28040416 0.0103942 ]\n",
      " [0.38684237 0.14714327 0.32080801 0.0771196 ]]\n"
     ]
    }
   ],
   "source": [
    "a = np.random.rand(4,4)\n",
    "transposed_matrix = np.transpose(a)\n",
    "print(\"Матриця\")\n",
    "print(a)\n",
    "\n",
    "print(\"\\nТранспонована матриця:\")\n",
    "print(transposed_matrix)"
   ]
  },
  {
   "cell_type": "code",
   "execution_count": 62,
   "metadata": {},
   "outputs": [
    {
     "name": "stdout",
     "output_type": "stream",
     "text": [
      "Матриця\n",
      "[[6 7 8 9]\n",
      " [2 1 9 7]\n",
      " [3 9 8 1]]\n",
      "\n",
      "Вектор\n",
      "[ 2 10  6  6]\n",
      "\n",
      "Результат множення матриці на вектор:\n",
      "[184 110 150]\n"
     ]
    }
   ],
   "source": [
    "a = np.random.randint(1, 11, size=(3, 4))\n",
    "b = np.random.randint(1, 11, size=4)\n",
    "result = np.dot(a, b)\n",
    "\n",
    "print(\"Матриця\")\n",
    "print(a)\n",
    "\n",
    "print(\"\\nВектор\")\n",
    "print(b)\n",
    "\n",
    "print(\"\\nРезультат множення матриці на вектор:\")\n",
    "print(result)"
   ]
  },
  {
   "cell_type": "code",
   "execution_count": 64,
   "metadata": {},
   "outputs": [
    {
     "name": "stdout",
     "output_type": "stream",
     "text": [
      "Матриця\n",
      "[[0.38619586 0.17749925 0.09916723]\n",
      " [0.89488242 0.913447   0.21318614]]\n",
      "\n",
      "Вектор\n",
      "[0.65935878 0.05753246 0.79005612]\n",
      "\n",
      "Результат множення матриці на вектор:\n",
      "[0.34320128 0.81103044]\n"
     ]
    }
   ],
   "source": [
    "a = np.random.rand(2, 3)\n",
    "b = np.random.rand(3)\n",
    "result = np.dot(a, b)\n",
    "\n",
    "print(\"Матриця\")\n",
    "print(a)\n",
    "\n",
    "print(\"\\nВектор\")\n",
    "print(b)\n",
    "\n",
    "print(\"\\nРезультат множення матриці на вектор:\")\n",
    "print(result)"
   ]
  },
  {
   "cell_type": "code",
   "execution_count": 65,
   "metadata": {},
   "outputs": [
    {
     "name": "stdout",
     "output_type": "stream",
     "text": [
      "Перша матриця\n",
      "[[9 5]\n",
      " [2 1]]\n",
      "\n",
      "Друга матриця\n",
      "[[ 6 10]\n",
      " [ 7  5]]\n",
      "\n",
      "Результат поелементного множення матриць:\n",
      "[[54 50]\n",
      " [14  5]]\n"
     ]
    }
   ],
   "source": [
    "a = np.random.randint(1, 11, size=(2, 2))\n",
    "b = np.random.randint(1, 11, size=(2, 2))\n",
    "c = a*b\n",
    "\n",
    "print(\"Перша матриця\")\n",
    "print(a)\n",
    "\n",
    "print(\"\\nДруга матриця\")\n",
    "print(b)\n",
    "\n",
    "print(\"\\nРезультат поелементного множення матриць:\")\n",
    "print(c)"
   ]
  },
  {
   "cell_type": "code",
   "execution_count": 66,
   "metadata": {},
   "outputs": [
    {
     "name": "stdout",
     "output_type": "stream",
     "text": [
      "Перша матриця\n",
      "[[ 7  7]\n",
      " [ 7 10]]\n",
      "\n",
      "Друга матриця\n",
      "[[9 6]\n",
      " [2 9]]\n",
      "\n",
      "Добуток матриць:\n",
      "[[ 77 105]\n",
      " [ 83 132]]\n"
     ]
    }
   ],
   "source": [
    "a = np.random.randint(1, 11, size=(2, 2))\n",
    "b = np.random.randint(1, 11, size=(2, 2))\n",
    "c = np.dot(a, b)\n",
    "\n",
    "print(\"Перша матриця\")\n",
    "print(a)\n",
    "\n",
    "print(\"\\nДруга матриця\")\n",
    "print(b)\n",
    "\n",
    "print(\"\\nДобуток матриць:\")\n",
    "print(c)"
   ]
  },
  {
   "cell_type": "code",
   "execution_count": null,
   "metadata": {},
   "outputs": [],
   "source": []
  },
  {
   "cell_type": "code",
   "execution_count": 68,
   "metadata": {},
   "outputs": [
    {
     "name": "stdout",
     "output_type": "stream",
     "text": [
      "Матриця\n",
      "[[86 38 98 53 32]\n",
      " [47 15 47 97 27]\n",
      " [68 24 64 43 75]\n",
      " [66 57 23  7 19]\n",
      " [33 80 82 39 93]]\n",
      "\n",
      "Сума елементів матриці:\n",
      "1313\n"
     ]
    }
   ],
   "source": [
    "a = np.random.randint(1, 101, size=(5, 5))\n",
    "sum = np.sum(a)\n",
    "\n",
    "print(\"Матриця\")\n",
    "print(a)\n",
    "\n",
    "print(\"\\nСума елементів матриці:\")\n",
    "print(sum)"
   ]
  },
  {
   "cell_type": "code",
   "execution_count": 69,
   "metadata": {},
   "outputs": [
    {
     "name": "stdout",
     "output_type": "stream",
     "text": [
      "Перша матриця:\n",
      "[[10 10  8  8]\n",
      " [ 4  4 10  9]\n",
      " [10  3 10  6]\n",
      " [ 1  1  5  9]]\n",
      "\n",
      "Друга матриця\n",
      "[[8 1 2 8]\n",
      " [9 7 7 8]\n",
      " [5 7 5 4]\n",
      " [3 5 3 6]]\n",
      "\n",
      "Різниця матриць\n",
      "[[ 2  9  6  0]\n",
      " [-5 -3  3  1]\n",
      " [ 5 -4  5  2]\n",
      " [-2 -4  2  3]]\n"
     ]
    }
   ],
   "source": [
    "a = np.random.randint(1, 11, size=(4, 4))\n",
    "b = np.random.randint(1, 11, size=(4, 4))\n",
    "c = a - b\n",
    "\n",
    "print(\"Перша матриця:\")\n",
    "print(a)\n",
    "\n",
    "print(\"\\nДруга матриця\")\n",
    "print(b)\n",
    "\n",
    "print(\"\\nРізниця матриць\")\n",
    "print(c)\n"
   ]
  },
  {
   "cell_type": "code",
   "execution_count": 70,
   "metadata": {},
   "outputs": [
    {
     "name": "stdout",
     "output_type": "stream",
     "text": [
      "Матриця\n",
      "[[0.05798189 0.6315764  0.8993918 ]\n",
      " [0.18646027 0.79035507 0.87050568]\n",
      " [0.17909269 0.02758464 0.36442844]]\n",
      "\n",
      "Вектор-стовпчик з сумами елементів кожного рядка:\n",
      "[[1.58895009]\n",
      " [1.84732102]\n",
      " [0.57110577]]\n"
     ]
    }
   ],
   "source": [
    "a = np.random.rand(3, 3)\n",
    "row_sums = np.sum(a, axis=1).reshape(-1, 1)\n",
    "\n",
    "\n",
    "print(\"Матриця\")\n",
    "print(a)\n",
    "\n",
    "print(\"\\nВектор-стовпчик з сумами елементів кожного рядка:\")\n",
    "print(row_sums)\n"
   ]
  },
  {
   "cell_type": "code",
   "execution_count": 73,
   "metadata": {},
   "outputs": [
    {
     "name": "stdout",
     "output_type": "stream",
     "text": [
      "матриця:\n",
      "[[ 5  4 10  3]\n",
      " [ 5  6  4 10]\n",
      " [ 1  7  6 10]]\n",
      "\n",
      "Матриця з квадратами чисел:\n",
      "[[ 25  16 100   9]\n",
      " [ 25  36  16 100]\n",
      " [  1  49  36 100]]\n"
     ]
    }
   ],
   "source": [
    "a = np.random.randint(1, 11, size=(3, 4))\n",
    "squared_matrix = np.square(a)\n",
    "\n",
    "print(\"матриця:\")\n",
    "print(a)\n",
    "\n",
    "print(\"\\nМатриця з квадратами чисел:\")\n",
    "print(squared_matrix)\n"
   ]
  },
  {
   "cell_type": "code",
   "execution_count": 74,
   "metadata": {},
   "outputs": [
    {
     "name": "stdout",
     "output_type": "stream",
     "text": [
      "вектор:\n",
      "[ 1  2  3  4  5  6  7  8  9 10]\n",
      "\n",
      "Вектор з квадратними коренями:\n",
      "[2.44948974 6.08276253 6.32455532 4.47213595]\n"
     ]
    }
   ],
   "source": [
    "a = np.random.randint(1, 51, size=4)\n",
    "sqrt_vector = np.sqrt(a)\n",
    "\n",
    "print(\"вектор:\")\n",
    "print(vector)\n",
    "\n",
    "print(\"\\nВектор з квадратними коренями:\")\n",
    "print(sqrt_vector)\n"
   ]
  }
 ],
 "metadata": {
  "kernelspec": {
   "display_name": "Python 3",
   "language": "python",
   "name": "python3"
  },
  "language_info": {
   "codemirror_mode": {
    "name": "ipython",
    "version": 3
   },
   "file_extension": ".py",
   "mimetype": "text/x-python",
   "name": "python",
   "nbconvert_exporter": "python",
   "pygments_lexer": "ipython3",
   "version": "3.12.3"
  }
 },
 "nbformat": 4,
 "nbformat_minor": 2
}
